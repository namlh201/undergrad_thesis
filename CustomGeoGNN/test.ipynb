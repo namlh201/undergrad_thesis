{
 "cells": [
  {
   "cell_type": "code",
   "execution_count": 2,
   "metadata": {},
   "outputs": [],
   "source": [
    "import os\n",
    "\n",
    "import numpy as np\n",
    "from scipy.sparse import coo_matrix\n",
    "from sklearn.preprocessing import normalize\n",
    "import torch\n",
    "from torch_geometric.data import Data\n",
    "from torch_geometric.loader import DataLoader"
   ]
  },
  {
   "cell_type": "code",
   "execution_count": 4,
   "metadata": {},
   "outputs": [],
   "source": [
    "class PairData(Data):\n",
    "    def __init__(self, edge_index_s=None, x_s=None, edge_attr_s=None, edge_list_s=None,\n",
    "                       edge_index_t=None, x_t=None, edge_attr_t=None, edge_list_t=None,\n",
    "                       y=None):\n",
    "        super().__init__()\n",
    "        self.edge_index_s = edge_index_s\n",
    "        self.x_s = x_s\n",
    "        self.edge_attr_s = edge_attr_s\n",
    "        self.edge_list_s = edge_list_s\n",
    "        self.edge_index_t = edge_index_t\n",
    "        self.x_t = x_t\n",
    "        self.edge_attr_t = edge_attr_t\n",
    "        self.edge_list_t = edge_list_t\n",
    "        self.y = y\n",
    "\n",
    "    def __inc__(self, key, value, *args, **kwargs):\n",
    "        if key == 'edge_index_s':\n",
    "            return self.x_s.size(0)\n",
    "        if key == 'edge_index_t':\n",
    "            return self.x_t.size(0)\n",
    "        if key == 'edge_list_s':\n",
    "            return self.edge_attr_s.size(0)\n",
    "        if key == 'edge_list_t':\n",
    "            return self.edge_attr_t.size(0)\n",
    "        if key == 'y':\n",
    "            return self.y.size(0)\n",
    "        else:\n",
    "            return super().__inc__(key, value, *args, **kwargs)"
   ]
  },
  {
   "cell_type": "code",
   "execution_count": 5,
   "metadata": {},
   "outputs": [],
   "source": [
    "x1 = torch.tensor([\n",
    "    [1, 2],\n",
    "    [3, 4],\n",
    "    [5, 6],\n",
    "    [7, 8]\n",
    "])\n",
    "edge_idx1 = torch.tensor([\n",
    "    [0, 0, 0],\n",
    "    [1, 2, 3]\n",
    "])\n",
    "edge_attr1 = torch.tensor([\n",
    "    [-1, -2, -3],\n",
    "    [-4, -5, -6],\n",
    "    [-7, -8, -9]\n",
    "])\n",
    "# edge_list1 = torch.arange(len(edge_attr1))\n",
    "edge_list1 = torch.tensor([[1, 2, 0], [2, 1, 0], [0, 1, 2]])\n",
    "\n",
    "data1 = Data(x=x1, edge_index=edge_idx1, edge_attr=edge_attr1)"
   ]
  },
  {
   "cell_type": "code",
   "execution_count": 6,
   "metadata": {},
   "outputs": [],
   "source": [
    "x2 = torch.tensor([\n",
    "    [1, 2],\n",
    "    [2, 3],\n",
    "    [3, 4],\n",
    "    [4, 5],\n",
    "    [5, 6]\n",
    "])\n",
    "edge_idx2 = torch.tensor([\n",
    "    [0, 0, 0, 0],\n",
    "    [1, 2, 3, 4]\n",
    "])\n",
    "edge_attr2 = torch.tensor([\n",
    "    [-1, -2, -3],\n",
    "    [-3, -4, -5],\n",
    "    [-5, -6, -7],\n",
    "    [-7, -8, -9]\n",
    "])\n",
    "edge_list2 = torch.tensor([[1, 2, 0], [2, 1, 0], [0, 1, 2], [0, 2, 1]])\n",
    "\n",
    "data2 = Data(x=x2, edge_index=edge_idx2, edge_attr=edge_attr2)"
   ]
  },
  {
   "cell_type": "code",
   "execution_count": 7,
   "metadata": {},
   "outputs": [],
   "source": [
    "y = torch.tensor([1])\n",
    "\n",
    "data_p = PairData(edge_index_s=edge_idx1, x_s=x1, edge_attr_s=edge_attr1, edge_list_s=edge_list1,\n",
    "                  edge_index_t=edge_idx2, x_t=x2, edge_attr_t=edge_attr2, edge_list_t=edge_list2,\n",
    "                  y=y)"
   ]
  },
  {
   "cell_type": "code",
   "execution_count": 8,
   "metadata": {},
   "outputs": [],
   "source": [
    "data_list = [data_p, data_p]\n",
    "loader = DataLoader(data_list, batch_size=2, follow_batch=['x_s', 'x_t', 'y'])"
   ]
  },
  {
   "cell_type": "code",
   "execution_count": 9,
   "metadata": {},
   "outputs": [],
   "source": [
    "batch = next(iter(loader))"
   ]
  },
  {
   "cell_type": "code",
   "execution_count": 10,
   "metadata": {},
   "outputs": [
    {
     "data": {
      "text/plain": [
       "PairDataBatch(edge_index_s=[2, 6], x_s=[8, 2], x_s_batch=[8], x_s_ptr=[3], edge_attr_s=[6, 3], edge_list_s=[6, 3], edge_index_t=[2, 8], x_t=[10, 2], x_t_batch=[10], x_t_ptr=[3], edge_attr_t=[8, 3], edge_list_t=[8, 3], y=[2], y_batch=[2], y_ptr=[3])"
      ]
     },
     "execution_count": 10,
     "metadata": {},
     "output_type": "execute_result"
    }
   ],
   "source": [
    "batch"
   ]
  },
  {
   "cell_type": "code",
   "execution_count": 11,
   "metadata": {},
   "outputs": [
    {
     "data": {
      "text/plain": [
       "tensor([0, 0, 0, 0, 1, 1, 1, 1])"
      ]
     },
     "execution_count": 11,
     "metadata": {},
     "output_type": "execute_result"
    }
   ],
   "source": [
    "batch.x_s_batch"
   ]
  },
  {
   "cell_type": "code",
   "execution_count": 15,
   "metadata": {},
   "outputs": [
    {
     "data": {
      "text/plain": [
       "tensor([[1, 2, 0],\n",
       "        [2, 1, 0],\n",
       "        [0, 1, 2],\n",
       "        [4, 5, 3],\n",
       "        [5, 4, 3],\n",
       "        [3, 4, 5]])"
      ]
     },
     "execution_count": 15,
     "metadata": {},
     "output_type": "execute_result"
    }
   ],
   "source": [
    "batch.edge_list_s"
   ]
  },
  {
   "cell_type": "code",
   "execution_count": 12,
   "metadata": {},
   "outputs": [
    {
     "data": {
      "text/plain": [
       "tensor([[1, 2],\n",
       "        [3, 4],\n",
       "        [5, 6],\n",
       "        [7, 8],\n",
       "        [1, 2],\n",
       "        [3, 4],\n",
       "        [5, 6],\n",
       "        [7, 8]])"
      ]
     },
     "execution_count": 12,
     "metadata": {},
     "output_type": "execute_result"
    }
   ],
   "source": [
    "batch.x_s"
   ]
  },
  {
   "cell_type": "code",
   "execution_count": 13,
   "metadata": {},
   "outputs": [
    {
     "data": {
      "text/plain": [
       "tensor([[-1, -2, -3],\n",
       "        [-4, -5, -6],\n",
       "        [-7, -8, -9],\n",
       "        [-1, -2, -3],\n",
       "        [-4, -5, -6],\n",
       "        [-7, -8, -9]])"
      ]
     },
     "execution_count": 13,
     "metadata": {},
     "output_type": "execute_result"
    }
   ],
   "source": [
    "batch.edge_attr_s"
   ]
  },
  {
   "cell_type": "code",
   "execution_count": 14,
   "metadata": {},
   "outputs": [
    {
     "data": {
      "text/plain": [
       "tensor([[1, 2, 0],\n",
       "        [2, 1, 0],\n",
       "        [0, 1, 2],\n",
       "        [4, 5, 3],\n",
       "        [5, 4, 3],\n",
       "        [3, 4, 5]])"
      ]
     },
     "execution_count": 14,
     "metadata": {},
     "output_type": "execute_result"
    }
   ],
   "source": [
    "batch.edge_list_s"
   ]
  },
  {
   "cell_type": "code",
   "execution_count": 26,
   "metadata": {},
   "outputs": [
    {
     "data": {
      "text/plain": [
       "tensor([[0, 0, 0, 4, 4, 4],\n",
       "        [1, 2, 3, 5, 6, 7]])"
      ]
     },
     "execution_count": 26,
     "metadata": {},
     "output_type": "execute_result"
    }
   ],
   "source": [
    "batch.edge_index_s"
   ]
  },
  {
   "cell_type": "code",
   "execution_count": 38,
   "metadata": {},
   "outputs": [
    {
     "data": {
      "text/plain": [
       "tensor([1, 1, 1, 1, 1, 1])"
      ]
     },
     "execution_count": 38,
     "metadata": {},
     "output_type": "execute_result"
    }
   ],
   "source": [
    "torch.full((1, batch.edge_index_s.shape[-1]), 1).squeeze()"
   ]
  },
  {
   "cell_type": "code",
   "execution_count": 42,
   "metadata": {},
   "outputs": [
    {
     "data": {
      "text/plain": [
       "tensor([[0, 1, 1, 1, 0, 0, 0, 0],\n",
       "        [0, 0, 0, 0, 0, 0, 0, 0],\n",
       "        [0, 0, 0, 0, 0, 0, 0, 0],\n",
       "        [0, 0, 0, 0, 0, 0, 0, 0],\n",
       "        [0, 0, 0, 0, 0, 1, 1, 1],\n",
       "        [0, 0, 0, 0, 0, 0, 0, 0],\n",
       "        [0, 0, 0, 0, 0, 0, 0, 0],\n",
       "        [0, 0, 0, 0, 0, 0, 0, 0]])"
      ]
     },
     "execution_count": 42,
     "metadata": {},
     "output_type": "execute_result"
    }
   ],
   "source": [
    "torch.sparse_coo_tensor(indices=batch.edge_index_s,\n",
    "                        values=torch.full((1, batch.edge_index_s.shape[-1]), 1).squeeze(),\n",
    "                        size=(batch.x_s.shape[0], batch.x_s.shape[0])).to_dense()"
   ]
  },
  {
   "cell_type": "code",
   "execution_count": 13,
   "metadata": {},
   "outputs": [
    {
     "data": {
      "text/plain": [
       "tensor([[-1, -2, -3],\n",
       "        [-4, -5, -6],\n",
       "        [-7, -8, -9],\n",
       "        [-1, -2, -3],\n",
       "        [-3, -4, -5],\n",
       "        [-5, -6, -7],\n",
       "        [-7, -8, -9]])"
      ]
     },
     "execution_count": 13,
     "metadata": {},
     "output_type": "execute_result"
    }
   ],
   "source": [
    "batch.edge_attr"
   ]
  },
  {
   "cell_type": "code",
   "execution_count": 3,
   "metadata": {},
   "outputs": [
    {
     "data": {
      "text/plain": [
       "tensor([[2, 3, 4],\n",
       "        [5, 6, 7]])"
      ]
     },
     "execution_count": 3,
     "metadata": {},
     "output_type": "execute_result"
    }
   ],
   "source": [
    "torch.tensor([[1, 2, 3], [4, 5, 6]]) + 1"
   ]
  },
  {
   "cell_type": "code",
   "execution_count": null,
   "metadata": {},
   "outputs": [],
   "source": [
    "0, 1, 0\n",
    "0, 2, 1\n",
    "3, 4, 2\n",
    "3, 5, 3"
   ]
  },
  {
   "cell_type": "code",
   "execution_count": 27,
   "metadata": {},
   "outputs": [],
   "source": [
    "import multiprocessing\n",
    "from time import time"
   ]
  },
  {
   "cell_type": "code",
   "execution_count": 24,
   "metadata": {},
   "outputs": [
    {
     "name": "stdout",
     "output_type": "stream",
     "text": [
      "[1, 2, 3, 4, 5, 6, 7, 8, 9, 10, 11]\n",
      "0.00015878677368164062\n"
     ]
    }
   ],
   "source": [
    "start_time = time()\n",
    "l = []\n",
    "l2 = list(range(1, 12))\n",
    "\n",
    "for i in l2:\n",
    "    l.append(i)\n",
    "\n",
    "print(l)\n",
    "end_time = time()\n",
    "\n",
    "print(end_time - start_time)"
   ]
  },
  {
   "cell_type": "code",
   "execution_count": 35,
   "metadata": {},
   "outputs": [],
   "source": [
    "def dothing(*L2):  # the managed list `L` passed explicitly.\n",
    "    L = []\n",
    "    for i in L2:\n",
    "        L.append(i)\n",
    "    return L"
   ]
  },
  {
   "cell_type": "code",
   "execution_count": 23,
   "metadata": {},
   "outputs": [
    {
     "name": "stdout",
     "output_type": "stream",
     "text": [
      "[1, 2, 3, 4, 5, 6, 7, 8, 9, 10, 11]\n",
      "0.04671788215637207\n"
     ]
    }
   ],
   "source": [
    "start_time = time()\n",
    "with multiprocessing.Manager() as manager:\n",
    "    L = manager.list()  # <-- can be shared between processes.\n",
    "    L2 = [[1, 2], [3, 4], [5, 6, 7], [8, 9, 10, 11]]\n",
    "    processes = []\n",
    "    for i in range(4):\n",
    "        p = multiprocessing.Process(target=dothing, args=(L, L2[i]))  # Passing the list\n",
    "        p.start()\n",
    "        processes.append(p)\n",
    "    for p in processes:\n",
    "        p.join()\n",
    "    print(L)\n",
    "\n",
    "end_time = time()\n",
    "\n",
    "print(end_time - start_time)"
   ]
  },
  {
   "cell_type": "code",
   "execution_count": 39,
   "metadata": {},
   "outputs": [
    {
     "name": "stdout",
     "output_type": "stream",
     "text": [
      "[[1, 2], [3, 4], [5, 6, 7], [8, 9, 10, 11]]\n",
      "0.03792405128479004\n"
     ]
    }
   ],
   "source": [
    "start_time = time()\n",
    "L = []  # <-- can be shared between processes.\n",
    "L2 = [[1, 2], [3, 4], [5, 6, 7], [8, 9, 10, 11]]\n",
    "with multiprocessing.Pool() as pool:\n",
    "    l_list = pool.starmap(dothing, L2)\n",
    "print(l_list)\n",
    "\n",
    "end_time = time()\n",
    "\n",
    "print(end_time - start_time)"
   ]
  },
  {
   "cell_type": "code",
   "execution_count": 2,
   "metadata": {},
   "outputs": [
    {
     "data": {
      "text/plain": [
       "tensor([[0., 0., 0.],\n",
       "        [0., 0., 0.],\n",
       "        [0., 0., 0.]])"
      ]
     },
     "execution_count": 2,
     "metadata": {},
     "output_type": "execute_result"
    }
   ],
   "source": [
    "import torch\n",
    "from torch_geometric.utils import add_self_loops, get_self_loop_attr\n",
    "\n",
    "edge_index = torch.tensor([[0, 1, 1],\n",
    "                           [1, 0, 2]])\n",
    "edge_weight = torch.tensor([[0.2, 0.3, 0.5],\n",
    "                            [  1,   2,   3],\n",
    "                            [  0, 0.3, 0.4]])\n",
    "get_self_loop_attr(edge_index, edge_weight)"
   ]
  },
  {
   "cell_type": "code",
   "execution_count": 2,
   "metadata": {},
   "outputs": [
    {
     "data": {
      "text/plain": [
       "(tensor([[0, 1, 1, 0, 1, 2],\n",
       "         [1, 0, 2, 0, 1, 2]]),\n",
       " tensor([[0.2000, 0.3000, 0.5000],\n",
       "         [1.0000, 2.0000, 3.0000],\n",
       "         [0.0000, 0.3000, 0.4000],\n",
       "         [1.0000, 1.0000, 1.0000],\n",
       "         [1.0000, 1.0000, 1.0000],\n",
       "         [1.0000, 1.0000, 1.0000]]))"
      ]
     },
     "execution_count": 2,
     "metadata": {},
     "output_type": "execute_result"
    }
   ],
   "source": [
    "add_self_loops(edge_index, edge_weight)"
   ]
  },
  {
   "cell_type": "code",
   "execution_count": 56,
   "metadata": {},
   "outputs": [
    {
     "name": "stdout",
     "output_type": "stream",
     "text": [
      "tensor([[ 0.1253, -0.1214,  1.3726,  0.2710],\n",
      "        [ 0.2165, -0.2144, -0.2145, -0.4526],\n",
      "        [-0.1415,  0.1179,  0.0156, -0.3729]])\n",
      "tensor([[[ 0.1253,  1.1253],\n",
      "         [-0.1214,  0.8786],\n",
      "         [ 1.3726,  2.3726],\n",
      "         [ 0.2710,  1.2710]],\n",
      "\n",
      "        [[ 0.2165,  1.2165],\n",
      "         [-0.2144,  0.7856],\n",
      "         [-0.2145,  0.7855],\n",
      "         [-0.4526,  0.5474]],\n",
      "\n",
      "        [[-0.1415,  0.8585],\n",
      "         [ 0.1179,  1.1179],\n",
      "         [ 0.0156,  1.0156],\n",
      "         [-0.3729,  0.6271]]]) torch.Size([3, 4, 2])\n"
     ]
    }
   ],
   "source": [
    "a = torch.randn((3, 4))\n",
    "l = [a, a + 1]\n",
    "print(a)\n",
    "b = torch.stack(l, dim=-1)\n",
    "print(b, b.shape)"
   ]
  },
  {
   "cell_type": "code",
   "execution_count": 55,
   "metadata": {},
   "outputs": [
    {
     "name": "stdout",
     "output_type": "stream",
     "text": [
      "tensor([[[-0.1021, -0.7876,  0.3487]],\n",
      "\n",
      "        [[ 0.8979,  0.2124,  1.3487]]]) torch.Size([2, 1, 3])\n"
     ]
    }
   ],
   "source": [
    "print(b.T, b.T.shape)"
   ]
  },
  {
   "cell_type": "code",
   "execution_count": 76,
   "metadata": {},
   "outputs": [
    {
     "name": "stdout",
     "output_type": "stream",
     "text": [
      "Linear(in_features=2, out_features=1, bias=True)\n",
      "Linear(in_features=4, out_features=4, bias=True)\n",
      "tensor([[-0.8413, -0.8104, -0.9974, -0.8595],\n",
      "        [-0.8527, -0.7988, -0.7988, -0.7690],\n",
      "        [-0.8079, -0.8404, -0.8276, -0.7790]], grad_fn=<SqueezeBackward0>) torch.Size([3, 4])\n",
      "Parameter containing:\n",
      "tensor([[ 0.5620, -0.6871]], requires_grad=True) Parameter containing:\n",
      "tensor([-0.1385], requires_grad=True)\n",
      "Parameter containing:\n",
      "tensor([[1., 1., 1., 1.],\n",
      "        [1., 1., 1., 1.],\n",
      "        [1., 1., 1., 1.],\n",
      "        [1., 1., 1., 1.]]) Parameter containing:\n",
      "tensor([ 0.1455, -0.3635, -0.0089,  0.0744], requires_grad=True)\n",
      "tensor([[-3.3631, -3.8722, -3.5175, -3.4343],\n",
      "        [-3.0738, -3.5828, -3.2281, -3.1449],\n",
      "        [-3.1094, -3.6184, -3.2637, -3.1805]], grad_fn=<AddmmBackward0>)\n"
     ]
    }
   ],
   "source": [
    "c = torch.nn.Linear(2, 1)\n",
    "d = torch.nn.Linear(4, 4)\n",
    "d.weight = torch.nn.Parameter(torch.full((4, 4), 1.), requires_grad=False)\n",
    "print(c)\n",
    "print(d)\n",
    "e = c(b).squeeze()\n",
    "print(e, e.shape)\n",
    "print(c.weight, c.bias)\n",
    "\n",
    "print(d.weight, d.bias)\n",
    "print(d(e))\n"
   ]
  },
  {
   "cell_type": "code",
   "execution_count": 19,
   "metadata": {},
   "outputs": [
    {
     "data": {
      "text/plain": [
       "tensor([[-0.8729, -0.8006],\n",
       "        [-0.2182, -0.3203],\n",
       "        [ 1.0911,  1.1209]])"
      ]
     },
     "execution_count": 19,
     "metadata": {},
     "output_type": "execute_result"
    }
   ],
   "source": [
    "import torch\n",
    "l = torch.tensor([[1, 2],\n",
    "                  [2, 3],\n",
    "                  [4, 6]], dtype=torch.float)\n",
    "\n",
    "m = (l - torch.mean(l, dim=0)) / torch.std(l, dim=0)\n",
    "m"
   ]
  },
  {
   "cell_type": "code",
   "execution_count": 17,
   "metadata": {},
   "outputs": [
    {
     "data": {
      "text/plain": [
       "tensor([2.3333, 3.6667])"
      ]
     },
     "execution_count": 17,
     "metadata": {},
     "output_type": "execute_result"
    }
   ],
   "source": [
    "torch.mean(l, dim=0)"
   ]
  },
  {
   "cell_type": "code",
   "execution_count": 18,
   "metadata": {},
   "outputs": [
    {
     "data": {
      "text/plain": [
       "tensor([1.5275, 2.0817])"
      ]
     },
     "execution_count": 18,
     "metadata": {},
     "output_type": "execute_result"
    }
   ],
   "source": [
    "torch.std(l, dim=0)"
   ]
  },
  {
   "cell_type": "code",
   "execution_count": 22,
   "metadata": {},
   "outputs": [
    {
     "data": {
      "text/plain": [
       "tensor([1., 1.])"
      ]
     },
     "execution_count": 22,
     "metadata": {},
     "output_type": "execute_result"
    }
   ],
   "source": [
    "torch.std(m, dim=0)"
   ]
  },
  {
   "cell_type": "code",
   "execution_count": 25,
   "metadata": {},
   "outputs": [
    {
     "data": {
      "text/plain": [
       "tensor([ 3.,  5., 10.])"
      ]
     },
     "execution_count": 25,
     "metadata": {},
     "output_type": "execute_result"
    }
   ],
   "source": [
    "torch.sum(l, dim=-1)"
   ]
  },
  {
   "cell_type": "code",
   "execution_count": 31,
   "metadata": {},
   "outputs": [
    {
     "data": {
      "text/plain": [
       "tensor([[1., 0., 0.],\n",
       "        [0., 2., 0.],\n",
       "        [0., 0., 1.]])"
      ]
     },
     "execution_count": 31,
     "metadata": {},
     "output_type": "execute_result"
    }
   ],
   "source": [
    "D = torch.diag(torch.tensor([1., 2., 1.]))\n",
    "D"
   ]
  },
  {
   "cell_type": "code",
   "execution_count": 32,
   "metadata": {},
   "outputs": [
    {
     "data": {
      "text/plain": [
       "tensor([[1.0000, 0.0000, -0.0000],\n",
       "        [0.0000, 0.5000, -0.0000],\n",
       "        [0.0000, 0.0000, 1.0000]])"
      ]
     },
     "execution_count": 32,
     "metadata": {},
     "output_type": "execute_result"
    }
   ],
   "source": [
    "D_inv = D.inverse()\n",
    "D_inv"
   ]
  },
  {
   "cell_type": "code",
   "execution_count": 33,
   "metadata": {},
   "outputs": [
    {
     "data": {
      "text/plain": [
       "tensor([[1.0000, 0.0000, -0.0000],\n",
       "        [0.0000, 0.7071, -0.0000],\n",
       "        [0.0000, 0.0000, 1.0000]])"
      ]
     },
     "execution_count": 33,
     "metadata": {},
     "output_type": "execute_result"
    }
   ],
   "source": [
    "D_inv_sqrt = D_inv ** 0.5\n",
    "D_inv_sqrt"
   ]
  },
  {
   "cell_type": "code",
   "execution_count": 34,
   "metadata": {},
   "outputs": [
    {
     "data": {
      "text/plain": [
       "tensor([[0., 1., 0.],\n",
       "        [1., 0., 1.],\n",
       "        [0., 1., 0.]])"
      ]
     },
     "execution_count": 34,
     "metadata": {},
     "output_type": "execute_result"
    }
   ],
   "source": [
    "A = torch.tensor([[0., 1., 0.],\n",
    "                  [1., 0., 1.],\n",
    "                  [0., 1., 0.]])\n",
    "A"
   ]
  },
  {
   "cell_type": "code",
   "execution_count": 36,
   "metadata": {},
   "outputs": [
    {
     "data": {
      "text/plain": [
       "tensor([[ 1.0000, -0.7071,  0.0000],\n",
       "        [-0.7071,  1.0000, -0.7071],\n",
       "        [ 0.0000, -0.7071,  1.0000]])"
      ]
     },
     "execution_count": 36,
     "metadata": {},
     "output_type": "execute_result"
    }
   ],
   "source": [
    "torch.eye(3, dtype=torch.float) - D_inv_sqrt @ A @ D_inv_sqrt"
   ]
  },
  {
   "cell_type": "code",
   "execution_count": 37,
   "metadata": {},
   "outputs": [
    {
     "data": {
      "text/plain": [
       "tensor(8.3666)"
      ]
     },
     "execution_count": 37,
     "metadata": {},
     "output_type": "execute_result"
    }
   ],
   "source": [
    "torch.linalg.norm(l, ord='fro')"
   ]
  },
  {
   "cell_type": "code",
   "execution_count": 5,
   "metadata": {},
   "outputs": [
    {
     "data": {
      "text/plain": [
       "array([[1, 2, 3],\n",
       "       [4, 5, 6]])"
      ]
     },
     "execution_count": 5,
     "metadata": {},
     "output_type": "execute_result"
    }
   ],
   "source": [
    "import numpy as np\n",
    "\n",
    "a = np.array([[1, 2, 3], [4, 5, 6]])\n",
    "a"
   ]
  },
  {
   "cell_type": "code",
   "execution_count": 13,
   "metadata": {},
   "outputs": [
    {
     "data": {
      "text/plain": [
       "array([[1, 4],\n",
       "       [2, 5],\n",
       "       [3, 6]])"
      ]
     },
     "execution_count": 13,
     "metadata": {},
     "output_type": "execute_result"
    }
   ],
   "source": [
    "a.T"
   ]
  },
  {
   "cell_type": "code",
   "execution_count": 14,
   "metadata": {},
   "outputs": [
    {
     "data": {
      "text/plain": [
       "array([[1, 4],\n",
       "       [3, 6]])"
      ]
     },
     "execution_count": 14,
     "metadata": {},
     "output_type": "execute_result"
    }
   ],
   "source": [
    "a.T[[0, 2]]"
   ]
  },
  {
   "cell_type": "code",
   "execution_count": 25,
   "metadata": {},
   "outputs": [
    {
     "name": "stdout",
     "output_type": "stream",
     "text": [
      "tensor([[2., 4., 4., 5.],\n",
      "        [1., 2., 3., 9.],\n",
      "        [4., 5., 6., 1.]], dtype=torch.float64)\n",
      "tensor([[ 5.,  7.,  9., 10.],\n",
      "        [ 2.,  4.,  4.,  5.],\n",
      "        [ 1.,  2.,  3.,  9.]], dtype=torch.float64)\n"
     ]
    }
   ],
   "source": [
    "import torch\n",
    "import torch.nn.functional as F\n",
    "\n",
    "a = [[2, 4, 4, 5],\n",
    "     [1, 2, 3, 9],\n",
    "     [4, 5, 6, 1]]\n",
    "\n",
    "adj = [[0, 1, 1],\n",
    "       [1, 0, 0],\n",
    "       [0, 1, 0]]\n",
    "\n",
    "a = torch.tensor(a).double()\n",
    "adj = torch.tensor(adj).double()\n",
    "\n",
    "b = adj @ a\n",
    "\n",
    "print(a)\n",
    "print(b)"
   ]
  },
  {
   "cell_type": "code",
   "execution_count": 26,
   "metadata": {},
   "outputs": [],
   "source": [
    "w_key = [\n",
    "  [0, 0, 1],\n",
    "  [1, 1, 0],\n",
    "  [0, 1, 0],\n",
    "  [1, 1, 0]\n",
    "]\n",
    "w_query = [\n",
    "  [1, 0, 1],\n",
    "  [1, 0, 0],\n",
    "  [0, 0, 1],\n",
    "  [0, 1, 1]\n",
    "]\n",
    "w_value = [\n",
    "  [0, 2, 0],\n",
    "  [0, 3, 0],\n",
    "  [1, 0, 3],\n",
    "  [1, 1, 0]\n",
    "]\n",
    "w_key = torch.tensor(w_key, dtype=torch.float64)\n",
    "w_query = torch.tensor(w_query, dtype=torch.float64)\n",
    "w_value = torch.tensor(w_value, dtype=torch.float64)"
   ]
  },
  {
   "cell_type": "code",
   "execution_count": 56,
   "metadata": {},
   "outputs": [
    {
     "name": "stdout",
     "output_type": "stream",
     "text": [
      "tensor([[ 6.,  5., 11.],\n",
      "        [ 3.,  9., 13.],\n",
      "        [ 9.,  1., 11.]], dtype=torch.float64)\n",
      "tensor([[ 9., 13.,  2.],\n",
      "        [11., 14.,  1.],\n",
      "        [ 6., 12.,  4.]], dtype=torch.float64)\n",
      "tensor([[19., 41., 27.],\n",
      "        [ 9., 21., 12.],\n",
      "        [12., 17.,  9.]], dtype=torch.float64)\n"
     ]
    }
   ],
   "source": [
    "querys = a @ w_query\n",
    "keys = a @ w_key\n",
    "values = b @ w_value\n",
    "\n",
    "print(querys)\n",
    "\n",
    "print(keys)\n",
    "\n",
    "print(values)"
   ]
  },
  {
   "cell_type": "code",
   "execution_count": 53,
   "metadata": {},
   "outputs": [
    {
     "data": {
      "text/plain": [
       "tensor([[141., 147., 140.],\n",
       "        [170., 172., 178.],\n",
       "        [116., 124., 110.]], dtype=torch.float64)"
      ]
     },
     "execution_count": 53,
     "metadata": {},
     "output_type": "execute_result"
    }
   ],
   "source": [
    "attn_scores = querys @ keys.T\n",
    "attn_scores"
   ]
  },
  {
   "cell_type": "code",
   "execution_count": 54,
   "metadata": {},
   "outputs": [
    {
     "data": {
      "text/plain": [
       "tensor([[1.4263e-03, 5.7540e-01, 5.2470e-04],\n",
       "        [1.9314e-04, 1.4271e-03, 5.7573e-01],\n",
       "        [1.9361e-04, 5.7716e-01, 4.7992e-07]], dtype=torch.float64)"
      ]
     },
     "execution_count": 54,
     "metadata": {},
     "output_type": "execute_result"
    }
   ],
   "source": [
    "attn_scores_softmax = F.softmax(attn_scores, dim=-1)\n",
    "attn_scores_softmax = attn_scores_softmax / torch.sqrt(torch.tensor(3))\n",
    "attn_scores_softmax"
   ]
  },
  {
   "cell_type": "code",
   "execution_count": 57,
   "metadata": {},
   "outputs": [
    {
     "data": {
      "text/plain": [
       "tensor([[ 5.2120, 12.1508,  6.9480],\n",
       "        [ 6.9253,  9.8253,  5.2039],\n",
       "        [ 5.1981, 12.1282,  6.9311]], dtype=torch.float64)"
      ]
     },
     "execution_count": 57,
     "metadata": {},
     "output_type": "execute_result"
    }
   ],
   "source": [
    "attn_scores_softmax @ values"
   ]
  }
 ],
 "metadata": {
  "kernelspec": {
   "display_name": "Python 3.10.6 ('thesis')",
   "language": "python",
   "name": "python3"
  },
  "language_info": {
   "codemirror_mode": {
    "name": "ipython",
    "version": 3
   },
   "file_extension": ".py",
   "mimetype": "text/x-python",
   "name": "python",
   "nbconvert_exporter": "python",
   "pygments_lexer": "ipython3",
   "version": "3.10.6"
  },
  "orig_nbformat": 4,
  "vscode": {
   "interpreter": {
    "hash": "f222316a5d06f04e2576259a9ef3742b41c8a309aa3a11e554d348cd512feb8b"
   }
  }
 },
 "nbformat": 4,
 "nbformat_minor": 2
}
