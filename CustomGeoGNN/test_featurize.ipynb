{
 "cells": [
  {
   "cell_type": "code",
   "execution_count": 9,
   "metadata": {},
   "outputs": [],
   "source": [
    "import os\n",
    "\n",
    "import numpy as np\n",
    "from scipy.sparse import coo_matrix\n",
    "from sklearn.preprocessing import normalize\n",
    "import torch\n",
    "\n",
    "from rdkit.Chem import AddHs, AllChem, MolToSequence, MolToSmiles, MolFromSmiles\n",
    "from rdkit.Chem.Descriptors import ExactMolWt\n",
    "from rdkit.Chem.Draw import IPythonConsole\n",
    "from rdkit.Chem.Draw.MolDrawing import MolDrawing, DrawingOptions\n",
    "from rdkit.Chem.rdchem import BondDir, BondType, ChiralType\n",
    "from rdkit.Chem.rdmolfiles import SDMolSupplier\n",
    "from rdkit.Chem.rdmolops import GetAdjacencyMatrix, Get3DDistanceMatrix, GetDistanceMatrix\n",
    "from rdkit.Chem.rdMolTransforms import GetAngleDeg\n",
    "\n",
    "IPythonConsole.drawOptions.addAtomIndices = True\n",
    "IPythonConsole.drawOptions.addBondIndices = True\n",
    "IPythonConsole.molSize = 300,300"
   ]
  },
  {
   "cell_type": "code",
   "execution_count": 8,
   "metadata": {},
   "outputs": [],
   "source": [
    "IPythonConsole.drawOptions.scaleHighlightBondWidth = True"
   ]
  },
  {
   "cell_type": "code",
   "execution_count": 18,
   "metadata": {},
   "outputs": [],
   "source": [
    "device = torch.device('cuda' if torch.cuda.is_available() else 'cpu')"
   ]
  },
  {
   "cell_type": "code",
   "execution_count": 2,
   "metadata": {},
   "outputs": [],
   "source": [
    "ROOT = '..'"
   ]
  },
  {
   "cell_type": "code",
   "execution_count": 3,
   "metadata": {},
   "outputs": [
    {
     "data": {
      "text/plain": [
       "<rdkit.Chem.rdmolfiles.SDMolSupplier at 0x7f6b8c21d260>"
      ]
     },
     "execution_count": 3,
     "metadata": {},
     "output_type": "execute_result"
    }
   ],
   "source": [
    "gdb7 = SDMolSupplier(os.path.join(ROOT, 'data/gdb7/gdb7.sdf'), removeHs=False)\n",
    "gdb7"
   ]
  },
  {
   "cell_type": "code",
   "execution_count": 4,
   "metadata": {},
   "outputs": [
    {
     "name": "stderr",
     "output_type": "stream",
     "text": [
      "[00:20:47] Warning: molecule is tagged as 3D, but all Z coords are zero\n",
      "[00:20:47] Warning: molecule is tagged as 3D, but all Z coords are zero\n"
     ]
    }
   ],
   "source": [
    "ch4 = gdb7[0]\n",
    "c2h6 = gdb7[1]\n",
    "c2h4 = gdb7[2]\n",
    "c2h2 = gdb7[3]\n",
    "c6h6 = MolFromSmiles('C1=CC=CC=C1')"
   ]
  },
  {
   "cell_type": "code",
   "execution_count": 7,
   "metadata": {},
   "outputs": [
    {
     "data": {
      "text/plain": [
       "5"
      ]
     },
     "execution_count": 7,
     "metadata": {},
     "output_type": "execute_result"
    }
   ],
   "source": [
    "c2h4.GetNumBonds()"
   ]
  },
  {
   "cell_type": "code",
   "execution_count": 10,
   "metadata": {},
   "outputs": [
    {
     "data": {
      "text/plain": [
       "12.011"
      ]
     },
     "execution_count": 10,
     "metadata": {},
     "output_type": "execute_result"
    }
   ],
   "source": [
    "c2h4.GetAtomWithIdx(1).GetMass()"
   ]
  },
  {
   "cell_type": "code",
   "execution_count": 8,
   "metadata": {},
   "outputs": [
    {
     "data": {
      "image/png": "[encoded data removed]",
      "text/plain": [
       "<rdkit.Chem.rdchem.Mol at 0x7f6ada76a320>"
      ]
     },
     "execution_count": 8,
     "metadata": {},
     "output_type": "execute_result"
    }
   ],
   "source": [
    "c2h4"
   ]
  },
  {
   "cell_type": "code",
   "execution_count": 62,
   "metadata": {},
   "outputs": [
    {
     "data": {
      "text/plain": [
       "1"
      ]
     },
     "execution_count": 62,
     "metadata": {},
     "output_type": "execute_result"
    }
   ],
   "source": [
    "c2h6.GetBondWithIdx(3).GetBeginAtomIdx()"
   ]
  },
  {
   "cell_type": "code",
   "execution_count": 63,
   "metadata": {},
   "outputs": [
    {
     "data": {
      "text/plain": [
       "5"
      ]
     },
     "execution_count": 63,
     "metadata": {},
     "output_type": "execute_result"
    }
   ],
   "source": [
    "c2h6.GetBondWithIdx(3).GetEndAtomIdx()"
   ]
  },
  {
   "cell_type": "code",
   "execution_count": 158,
   "metadata": {},
   "outputs": [],
   "source": [
    "ch4_H = AddHs(ch4)"
   ]
  },
  {
   "cell_type": "code",
   "execution_count": 289,
   "metadata": {},
   "outputs": [],
   "source": [
    "c6h6_H = AddHs(c6h6)"
   ]
  },
  {
   "cell_type": "code",
   "execution_count": 290,
   "metadata": {},
   "outputs": [
    {
     "data": {
      "text/plain": [
       "0"
      ]
     },
     "execution_count": 290,
     "metadata": {},
     "output_type": "execute_result"
    }
   ],
   "source": [
    "AllChem.EmbedMolecule(c6h6_H)\n",
    "AllChem.MMFFOptimizeMolecule(c6h6_H)"
   ]
  },
  {
   "cell_type": "code",
   "execution_count": 291,
   "metadata": {},
   "outputs": [
    {
     "data": {
      "image/png": "[encoded data removed]",
      "text/plain": [
       "<rdkit.Chem.rdchem.Mol at 0x2c6302defe0>"
      ]
     },
     "execution_count": 291,
     "metadata": {},
     "output_type": "execute_result"
    }
   ],
   "source": [
    "c6h6_H"
   ]
  },
  {
   "cell_type": "code",
   "execution_count": null,
   "metadata": {},
   "outputs": [
    {
     "data": {
      "text/plain": [
       "array([[0, 1, 0, 0, 0, 1, 1, 0, 0, 0, 0, 0],\n",
       "       [1, 0, 1, 0, 0, 0, 0, 1, 0, 0, 0, 0],\n",
       "       [0, 1, 0, 1, 0, 0, 0, 0, 1, 0, 0, 0],\n",
       "       [0, 0, 1, 0, 1, 0, 0, 0, 0, 1, 0, 0],\n",
       "       [0, 0, 0, 1, 0, 1, 0, 0, 0, 0, 1, 0],\n",
       "       [1, 0, 0, 0, 1, 0, 0, 0, 0, 0, 0, 1],\n",
       "       [1, 0, 0, 0, 0, 0, 0, 0, 0, 0, 0, 0],\n",
       "       [0, 1, 0, 0, 0, 0, 0, 0, 0, 0, 0, 0],\n",
       "       [0, 0, 1, 0, 0, 0, 0, 0, 0, 0, 0, 0],\n",
       "       [0, 0, 0, 1, 0, 0, 0, 0, 0, 0, 0, 0],\n",
       "       [0, 0, 0, 0, 1, 0, 0, 0, 0, 0, 0, 0],\n",
       "       [0, 0, 0, 0, 0, 1, 0, 0, 0, 0, 0, 0]], dtype=int32)"
      ]
     },
     "metadata": {},
     "output_type": "display_data"
    }
   ],
   "source": [
    "GetAdjacencyMatrix(c6h6_H)"
   ]
  },
  {
   "cell_type": "code",
   "execution_count": 203,
   "metadata": {},
   "outputs": [
    {
     "data": {
      "text/plain": [
       "array([[0.        , 0.42186708, 0.42186708, 1.10795808, 1.10606298],\n",
       "       [0.42186708, 0.        , 0.        , 0.93286057, 0.93211064],\n",
       "       [0.42186708, 0.        , 0.        , 0.93286057, 0.93211064],\n",
       "       [1.10795808, 0.93286057, 0.93286057, 0.        , 1.81663049],\n",
       "       [1.10606298, 0.93211064, 0.93211064, 1.81663049, 0.        ]])"
      ]
     },
     "execution_count": 203,
     "metadata": {},
     "output_type": "execute_result"
    }
   ],
   "source": [
    "Get3DDistanceMatrix(ch4_H)"
   ]
  },
  {
   "cell_type": "code",
   "execution_count": 182,
   "metadata": {},
   "outputs": [
    {
     "data": {
      "text/plain": [
       "array([[-9.04021149e-04,  4.21866108e-01, -0.00000000e+00],\n",
       "       [ 0.00000000e+00,  0.00000000e+00,  0.00000000e+00],\n",
       "       [ 0.00000000e+00,  0.00000000e+00,  0.00000000e+00],\n",
       "       [ 9.08767212e-01, -2.10644246e-01,  0.00000000e+00],\n",
       "       [-9.07863191e-01, -2.11221862e-01, -0.00000000e+00]])"
      ]
     },
     "execution_count": 182,
     "metadata": {},
     "output_type": "execute_result"
    }
   ],
   "source": [
    "m = ch4_H.GetConformer().GetPositions()\n",
    "m"
   ]
  },
  {
   "cell_type": "code",
   "execution_count": 185,
   "metadata": {},
   "outputs": [
    {
     "data": {
      "text/plain": [
       "0.42186707647968846"
      ]
     },
     "execution_count": 185,
     "metadata": {},
     "output_type": "execute_result"
    }
   ],
   "source": [
    "np.sqrt(np.sum((m[0] - m[1]) ** 2))"
   ]
  },
  {
   "cell_type": "code",
   "execution_count": 164,
   "metadata": {},
   "outputs": [
    {
     "name": "stdout",
     "output_type": "stream",
     "text": [
      "True\n",
      "True\n",
      "True\n",
      "True\n",
      "True\n",
      "True\n",
      "False\n",
      "False\n",
      "False\n",
      "False\n",
      "False\n",
      "False\n"
     ]
    }
   ],
   "source": [
    "for atom in c6h6_H.GetAtoms():\n",
    "    print(atom.GetIsAromatic())"
   ]
  },
  {
   "cell_type": "code",
   "execution_count": 133,
   "metadata": {},
   "outputs": [
    {
     "name": "stdout",
     "output_type": "stream",
     "text": [
      "C 6 (<rdkit.Chem.rdchem.Atom object at 0x000002C60FDD2CE0>, <rdkit.Chem.rdchem.Atom object at 0x000002C60FDD2740>, <rdkit.Chem.rdchem.Atom object at 0x000002C60FDD3EE0>, <rdkit.Chem.rdchem.Atom object at 0x000002C60FDD3DC0>)\n",
      "C 6 (<rdkit.Chem.rdchem.Atom object at 0x000002C60FDD38E0>, <rdkit.Chem.rdchem.Atom object at 0x000002C60FDD2740>, <rdkit.Chem.rdchem.Atom object at 0x000002C60FDD3EE0>, <rdkit.Chem.rdchem.Atom object at 0x000002C60FDD3DC0>)\n",
      "H 1 (<rdkit.Chem.rdchem.Atom object at 0x000002C60FDD2CE0>,)\n",
      "H 1 (<rdkit.Chem.rdchem.Atom object at 0x000002C60FDD38E0>,)\n",
      "H 1 (<rdkit.Chem.rdchem.Atom object at 0x000002C60FDD2CE0>,)\n",
      "H 1 (<rdkit.Chem.rdchem.Atom object at 0x000002C60FDD38E0>,)\n",
      "H 1 (<rdkit.Chem.rdchem.Atom object at 0x000002C60FDD2CE0>,)\n",
      "H 1 (<rdkit.Chem.rdchem.Atom object at 0x000002C60FDD38E0>,)\n"
     ]
    }
   ],
   "source": [
    "for atom in AddHs(c2h6).GetAtoms():\n",
    "    print(atom.GetSymbol(), atom.GetAtomicNum(), atom.GetNeighbors())"
   ]
  },
  {
   "cell_type": "code",
   "execution_count": 128,
   "metadata": {},
   "outputs": [],
   "source": [
    "c = ch4_H.GetAtomWithIdx(0)"
   ]
  },
  {
   "cell_type": "code",
   "execution_count": 130,
   "metadata": {},
   "outputs": [
    {
     "data": {
      "text/plain": [
       "0"
      ]
     },
     "execution_count": 130,
     "metadata": {},
     "output_type": "execute_result"
    }
   ],
   "source": [
    "c.GetNumExplicitHs()"
   ]
  },
  {
   "cell_type": "code",
   "execution_count": 71,
   "metadata": {},
   "outputs": [
    {
     "name": "stdout",
     "output_type": "stream",
     "text": [
      "True\n",
      "[<rdkit.Chem.rdchem.Atom object at 0x000002C60FD757E0>, <rdkit.Chem.rdchem.Atom object at 0x000002C60FD756C0>, <rdkit.Chem.rdchem.Atom object at 0x000002C60FD75840>, <rdkit.Chem.rdchem.Atom object at 0x000002C60FD75780>, <rdkit.Chem.rdchem.Atom object at 0x000002C60FD75900>, <rdkit.Chem.rdchem.Atom object at 0x000002C60FD75960>]\n"
     ]
    }
   ],
   "source": [
    "print(c6h6.GetAtomWithIdx(0).GetIsAromatic())\n",
    "print(list(c6h6.GetAromaticAtoms()))"
   ]
  },
  {
   "cell_type": "markdown",
   "metadata": {},
   "source": [
    "# Atom features"
   ]
  },
  {
   "cell_type": "code",
   "execution_count": 253,
   "metadata": {},
   "outputs": [],
   "source": [
    "def get_atom_type_feature(mol) -> np.ndarray:\n",
    "    # num_As x 119\n",
    "    nrows = mol.GetNumAtoms()\n",
    "    ncols = 119\n",
    "\n",
    "    atom_type = torch.zeros((nrows, ncols))\n",
    "\n",
    "    for i in range(nrows):\n",
    "        atom_type[i][mol.GetAtomWithIdx(i).GetAtomicNum()] = 1\n",
    "    \n",
    "    return atom_type"
   ]
  },
  {
   "cell_type": "code",
   "execution_count": 254,
   "metadata": {},
   "outputs": [],
   "source": [
    "def get_aromaticity_feature(mol) -> np.ndarray:\n",
    "    # num_As x 2\n",
    "    nrows = mol.GetNumAtoms()\n",
    "    ncols = 2\n",
    "\n",
    "    aromaticity = torch.zeros((nrows, ncols))\n",
    "\n",
    "    for i in range(nrows):\n",
    "        if mol.GetAtomWithIdx(i).GetIsAromatic():\n",
    "            aromaticity[i][1] = 1\n",
    "        else:\n",
    "            aromaticity[i][0] = 1\n",
    "    \n",
    "    return aromaticity"
   ]
  },
  {
   "cell_type": "code",
   "execution_count": 255,
   "metadata": {},
   "outputs": [],
   "source": [
    "def get_formal_charge_feature(mol) -> np.ndarray:\n",
    "    # num_As x 16\n",
    "    nrows = mol.GetNumAtoms()\n",
    "    ncols = 16\n",
    "\n",
    "    formal_charge = torch.zeros((nrows, ncols))\n",
    "\n",
    "    for i in range(nrows):\n",
    "        formal_charge[i][mol.GetAtomWithIdx(i).GetFormalCharge()] = 1\n",
    "\n",
    "    return formal_charge"
   ]
  },
  {
   "cell_type": "code",
   "execution_count": 256,
   "metadata": {},
   "outputs": [],
   "source": [
    "def get_chiral_tag_feature(mol) -> np.ndarray:\n",
    "    # CHI_UNSPECIFIED       = 0\n",
    "    # CHI_TETRAHEDRAL_CW    = 1\n",
    "    # CHI_TETRAHEDRAL_CCW   = 2\n",
    "    # CHI_OTHER             = 3\n",
    "\n",
    "    # num_As x 4\n",
    "    nrows = mol.GetNumAtoms()\n",
    "    ncols = len(ChiralType.values) # 4\n",
    "\n",
    "    chiral_tag = torch.zeros((nrows, ncols))\n",
    "\n",
    "    for i in range(nrows):\n",
    "        chiral_tag[i][mol.GetAtomWithIdx(i).GetChiralTag()] = 1\n",
    "\n",
    "    return chiral_tag"
   ]
  },
  {
   "cell_type": "code",
   "execution_count": 257,
   "metadata": {},
   "outputs": [],
   "source": [
    "def get_degree_feature(mol) -> np.ndarray:\n",
    "    # num_As x 11\n",
    "    nrows = mol.GetNumAtoms()\n",
    "    ncols = 11\n",
    "\n",
    "    degree = torch.zeros((nrows, ncols))\n",
    "\n",
    "    for i in range(nrows):\n",
    "        degree[i][mol.GetAtomWithIdx(i).GetDegree()] = 1\n",
    "    \n",
    "    return degree"
   ]
  },
  {
   "cell_type": "code",
   "execution_count": 299,
   "metadata": {},
   "outputs": [],
   "source": [
    "def get_num_bonded_Hs_feature(mol):\n",
    "    # num_As x 9\n",
    "    nrows = mol.GetNumAtoms()\n",
    "    ncols = 9\n",
    "\n",
    "    num_bonded_Hs = torch.zeros((nrows, ncols))\n",
    "\n",
    "    for i in range(nrows):\n",
    "        num_bonded_Hs[i][mol.GetAtomWithIdx(i).GetNumExplicitHs()] = 1\n",
    "\n",
    "    return num_bonded_Hs"
   ]
  },
  {
   "cell_type": "code",
   "execution_count": 302,
   "metadata": {},
   "outputs": [
    {
     "data": {
      "text/plain": [
       "tensor([[1., 0., 0., 0., 0., 0., 0., 0., 0.],\n",
       "        [1., 0., 0., 0., 0., 0., 0., 0., 0.],\n",
       "        [1., 0., 0., 0., 0., 0., 0., 0., 0.],\n",
       "        [1., 0., 0., 0., 0., 0., 0., 0., 0.],\n",
       "        [1., 0., 0., 0., 0., 0., 0., 0., 0.],\n",
       "        [1., 0., 0., 0., 0., 0., 0., 0., 0.],\n",
       "        [1., 0., 0., 0., 0., 0., 0., 0., 0.],\n",
       "        [1., 0., 0., 0., 0., 0., 0., 0., 0.]])"
      ]
     },
     "execution_count": 302,
     "metadata": {},
     "output_type": "execute_result"
    }
   ],
   "source": [
    "get_num_bonded_Hs_feature(c2h6)"
   ]
  },
  {
   "cell_type": "code",
   "execution_count": 259,
   "metadata": {},
   "outputs": [],
   "source": [
    "def get_hybridization_feature(mol):\n",
    "    # SP    = 2\n",
    "    # SP2   = 3\n",
    "    # SP3   = 4\n",
    "    # SP3D  = 5\n",
    "    # SP3D2 = 6\n",
    "\n",
    "    # num_As x 5\n",
    "    nrows = mol.GetNumAtoms()\n",
    "    ncols = 5\n",
    "\n",
    "    hybridization = torch.zeros((nrows, ncols))\n",
    "\n",
    "    for i in range(nrows):\n",
    "        hybridization[i][mol.GetAtomWithIdx(i).GetHybridization() - 2] = 1\n",
    "    \n",
    "    return hybridization"
   ]
  },
  {
   "cell_type": "code",
   "execution_count": 260,
   "metadata": {},
   "outputs": [
    {
     "data": {
      "text/plain": [
       "tensor([[0., 0., 1., 0., 0.],\n",
       "        [0., 0., 0., 0., 1.],\n",
       "        [0., 0., 0., 0., 1.],\n",
       "        [0., 0., 0., 1., 0.],\n",
       "        [0., 0., 0., 1., 0.]])"
      ]
     },
     "execution_count": 260,
     "metadata": {},
     "output_type": "execute_result"
    }
   ],
   "source": [
    "get_hybridization_feature(ch4_H)"
   ]
  },
  {
   "cell_type": "markdown",
   "metadata": {},
   "source": [
    "# Bond features"
   ]
  },
  {
   "cell_type": "code",
   "execution_count": 261,
   "metadata": {},
   "outputs": [],
   "source": [
    "def get_bond_dir_feature(mol) -> np.ndarray:\n",
    "    # NONE          = 0\n",
    "    # BEGINWEDGE    = 1\n",
    "    # BEGINDASH     = 2\n",
    "    # ENDDOWNRIGHT  = 3\n",
    "    # ENDUPRIGHT    = 4\n",
    "    # EITHERDOUBLE  = 5\n",
    "    # UNKNOWN       = 6\n",
    "\n",
    "    # num_Bs x 7\n",
    "    nrows = mol.GetNumBonds()\n",
    "    ncols = len(BondDir.values) # 7\n",
    "\n",
    "    bond_dir = torch.zeros((nrows, ncols))\n",
    "\n",
    "    for i in range(nrows):\n",
    "        bond_dir[i][mol.GetBondWithIdx(i).GetBondDir()] = 1\n",
    "    \n",
    "    return bond_dir"
   ]
  },
  {
   "cell_type": "code",
   "execution_count": 262,
   "metadata": {},
   "outputs": [],
   "source": [
    "def get_bond_type_feature(mol) -> np.ndarray:\n",
    "    # SINGLE    = 1 -> 0\n",
    "    # DOUBLE    = 2 -> 1\n",
    "    # TRIPLE    = 3 -> 2\n",
    "    # AROMATIC = 12 -> 3\n",
    "    \n",
    "    value_to_idx = {\n",
    "        BondType.SINGLE:    0,\n",
    "        BondType.DOUBLE:    1,\n",
    "        BondType.TRIPLE:    2,\n",
    "        BondType.AROMATIC:  3\n",
    "    }\n",
    "\n",
    "    # num_Bs x 4\n",
    "    nrows = mol.GetNumBonds()\n",
    "    ncols = 4\n",
    "\n",
    "    bond_type = torch.zeros((nrows, ncols))\n",
    "\n",
    "    for i in range(nrows):\n",
    "        bond_type[i][value_to_idx[mol.GetBondWithIdx(i).GetBondType()]] = 1\n",
    "    \n",
    "    return bond_type"
   ]
  },
  {
   "cell_type": "code",
   "execution_count": 263,
   "metadata": {},
   "outputs": [],
   "source": [
    "def get_in_ring_feature(mol) -> np.ndarray:\n",
    "    # num_Bs x 2\n",
    "    nrows = mol.GetNumBonds()\n",
    "    ncols = 2\n",
    "\n",
    "    in_ring = torch.zeros((nrows, ncols))\n",
    "\n",
    "    for i in range(nrows):\n",
    "        if mol.GetBondWithIdx(i).IsInRing():\n",
    "            in_ring[i][1] = 1\n",
    "        else:\n",
    "            in_ring[i][0] = 1\n",
    "    \n",
    "    return in_ring"
   ]
  },
  {
   "cell_type": "code",
   "execution_count": 304,
   "metadata": {},
   "outputs": [],
   "source": [
    "def radial_basis_function(x, centers, gamma=10) -> np.ndarray:\n",
    "    return np.exp(-gamma * (x - centers) ** 2)\n",
    "\n",
    "def rdf_continuous_to_discrete(x, min_val=0, max_val=2, stride=0.1) -> np.ndarray:\n",
    "    centers = [val for val in np.arange(min_val, max_val, stride)]\n",
    "\n",
    "    nrows = len(x)\n",
    "    ncols = len(centers)\n",
    "\n",
    "    # Clone a vector of size (1, n) to matrix of size (n, m)\n",
    "    # say [1, 2, 3, 4] ->  [[1, 1, 1],\n",
    "    #                       [2, 2, 2],\n",
    "    #                       [3, 3, 3],\n",
    "    #                       [4, 4, 4]]\n",
    "    x = np.tile(x, (ncols, 1)).T\n",
    "    # print(x)\n",
    "\n",
    "    return radial_basis_function(x, centers)"
   ]
  },
  {
   "cell_type": "code",
   "execution_count": 303,
   "metadata": {},
   "outputs": [],
   "source": [
    "def get_bond_length_feature(mol) -> np.ndarray:\n",
    "    # num_Bs x N\n",
    "    nrows = mol.GetNumBonds()\n",
    "\n",
    "    cont_bond_length = np.zeros((nrows,))\n",
    "\n",
    "    dist_mat = Get3DDistanceMatrix(mol)\n",
    "\n",
    "    for i in range(nrows):\n",
    "        begin_atom_idx = mol.GetBondWithIdx(i).GetBeginAtomIdx()\n",
    "        end_atom_idx = mol.GetBondWithIdx(i).GetEndAtomIdx()\n",
    "\n",
    "        cont_bond_length[i] = dist_mat[begin_atom_idx][end_atom_idx]\n",
    "    \n",
    "    # min_dist = np.min(cont_bond_length)\n",
    "    # max_dist = np.max(cont_bond_length)\n",
    "\n",
    "    return torch.tensor(rdf_continuous_to_discrete(cont_bond_length))#, min_dist, max_dist))"
   ]
  },
  {
   "cell_type": "code",
   "execution_count": 305,
   "metadata": {},
   "outputs": [
    {
     "data": {
      "text/plain": [
       "tensor([[3.5533e-09, 5.2328e-08, 6.3092e-07, 6.2281e-06, 5.0336e-05, 3.3308e-04,\n",
       "         1.8045e-03, 8.0039e-03, 2.9066e-02, 8.6421e-02, 2.1037e-01, 4.1928e-01,\n",
       "         6.8416e-01, 9.1401e-01, 9.9973e-01, 8.9528e-01, 6.5641e-01, 3.9404e-01,\n",
       "         1.9366e-01, 7.7925e-02],\n",
       "        [3.5533e-09, 5.2328e-08, 6.3092e-07, 6.2281e-06, 5.0336e-05, 3.3308e-04,\n",
       "         1.8045e-03, 8.0039e-03, 2.9066e-02, 8.6421e-02, 2.1037e-01, 4.1928e-01,\n",
       "         6.8415e-01, 9.1400e-01, 9.9973e-01, 8.9528e-01, 6.5641e-01, 3.9404e-01,\n",
       "         1.9366e-01, 7.7925e-02],\n",
       "        [3.5533e-09, 5.2328e-08, 6.3092e-07, 6.2281e-06, 5.0336e-05, 3.3308e-04,\n",
       "         1.8045e-03, 8.0039e-03, 2.9066e-02, 8.6421e-02, 2.1037e-01, 4.1928e-01,\n",
       "         6.8415e-01, 9.1400e-01, 9.9973e-01, 8.9528e-01, 6.5641e-01, 3.9404e-01,\n",
       "         1.9366e-01, 7.7925e-02],\n",
       "        [3.5533e-09, 5.2328e-08, 6.3092e-07, 6.2281e-06, 5.0336e-05, 3.3308e-04,\n",
       "         1.8045e-03, 8.0039e-03, 2.9066e-02, 8.6421e-02, 2.1037e-01, 4.1928e-01,\n",
       "         6.8415e-01, 9.1400e-01, 9.9973e-01, 8.9528e-01, 6.5641e-01, 3.9404e-01,\n",
       "         1.9366e-01, 7.7925e-02],\n",
       "        [3.5532e-09, 5.2327e-08, 6.3091e-07, 6.2280e-06, 5.0336e-05, 3.3308e-04,\n",
       "         1.8045e-03, 8.0038e-03, 2.9066e-02, 8.6420e-02, 2.1037e-01, 4.1928e-01,\n",
       "         6.8415e-01, 9.1400e-01, 9.9973e-01, 8.9528e-01, 6.5641e-01, 3.9404e-01,\n",
       "         1.9366e-01, 7.7925e-02],\n",
       "        [3.5533e-09, 5.2328e-08, 6.3092e-07, 6.2281e-06, 5.0336e-05, 3.3308e-04,\n",
       "         1.8045e-03, 8.0039e-03, 2.9066e-02, 8.6421e-02, 2.1037e-01, 4.1928e-01,\n",
       "         6.8416e-01, 9.1401e-01, 9.9973e-01, 8.9528e-01, 6.5641e-01, 3.9404e-01,\n",
       "         1.9366e-01, 7.7925e-02],\n",
       "        [7.4312e-06, 5.9095e-05, 3.8476e-04, 2.0510e-03, 8.9511e-03, 3.1984e-02,\n",
       "         9.3569e-02, 2.2411e-01, 4.3949e-01, 7.0562e-01, 9.2754e-01, 9.9824e-01,\n",
       "         8.7959e-01, 6.3455e-01, 3.7479e-01, 1.8124e-01, 7.1758e-02, 2.3260e-02,\n",
       "         6.1732e-03, 1.3413e-03],\n",
       "        [7.4312e-06, 5.9095e-05, 3.8476e-04, 2.0510e-03, 8.9511e-03, 3.1984e-02,\n",
       "         9.3569e-02, 2.2411e-01, 4.3949e-01, 7.0562e-01, 9.2754e-01, 9.9824e-01,\n",
       "         8.7959e-01, 6.3455e-01, 3.7479e-01, 1.8124e-01, 7.1758e-02, 2.3260e-02,\n",
       "         6.1732e-03, 1.3413e-03],\n",
       "        [7.4313e-06, 5.9095e-05, 3.8476e-04, 2.0510e-03, 8.9511e-03, 3.1984e-02,\n",
       "         9.3569e-02, 2.2411e-01, 4.3949e-01, 7.0562e-01, 9.2754e-01, 9.9824e-01,\n",
       "         8.7959e-01, 6.3455e-01, 3.7479e-01, 1.8124e-01, 7.1757e-02, 2.3260e-02,\n",
       "         6.1732e-03, 1.3413e-03],\n",
       "        [7.4312e-06, 5.9095e-05, 3.8476e-04, 2.0510e-03, 8.9511e-03, 3.1984e-02,\n",
       "         9.3569e-02, 2.2411e-01, 4.3949e-01, 7.0562e-01, 9.2754e-01, 9.9824e-01,\n",
       "         8.7959e-01, 6.3455e-01, 3.7479e-01, 1.8124e-01, 7.1758e-02, 2.3260e-02,\n",
       "         6.1732e-03, 1.3413e-03],\n",
       "        [7.4312e-06, 5.9095e-05, 3.8476e-04, 2.0510e-03, 8.9511e-03, 3.1984e-02,\n",
       "         9.3568e-02, 2.2411e-01, 4.3949e-01, 7.0562e-01, 9.2754e-01, 9.9824e-01,\n",
       "         8.7959e-01, 6.3455e-01, 3.7479e-01, 1.8124e-01, 7.1758e-02, 2.3260e-02,\n",
       "         6.1732e-03, 1.3413e-03],\n",
       "        [7.4312e-06, 5.9095e-05, 3.8476e-04, 2.0510e-03, 8.9511e-03, 3.1984e-02,\n",
       "         9.3569e-02, 2.2411e-01, 4.3949e-01, 7.0562e-01, 9.2754e-01, 9.9824e-01,\n",
       "         8.7959e-01, 6.3455e-01, 3.7479e-01, 1.8124e-01, 7.1758e-02, 2.3260e-02,\n",
       "         6.1732e-03, 1.3413e-03]], dtype=torch.float64)"
      ]
     },
     "execution_count": 305,
     "metadata": {},
     "output_type": "execute_result"
    }
   ],
   "source": [
    "get_bond_length_feature(c6h6_H)"
   ]
  },
  {
   "cell_type": "markdown",
   "metadata": {},
   "source": [
    "# Bond-angle feature"
   ]
  },
  {
   "cell_type": "code",
   "execution_count": 238,
   "metadata": {},
   "outputs": [],
   "source": [
    "def get_bond_angles(mol) -> list:\n",
    "    # Return a list of bond-angles, with each entry as an indice tuple of (end_atom_1, connecting_atom, end_atom_2)\n",
    "    bonds = mol.GetBonds()\n",
    "    num_bonds = len(bonds)\n",
    "    \n",
    "    bond_angles = []\n",
    "\n",
    "    for i in range(num_bonds):\n",
    "        for j in range(num_bonds):\n",
    "            if bonds[i].GetEndAtomIdx() == bonds[j].GetBeginAtomIdx():\n",
    "                bond_angles.append((bonds[i].GetBeginAtomIdx(), bonds[i].GetEndAtomIdx(), bonds[j].GetEndAtomIdx()))\n",
    "            elif bonds[i].GetBeginAtomIdx() == bonds[j].GetEndAtomIdx():\n",
    "                bond_angles.append((bonds[j].GetBeginAtomIdx(), bonds[j].GetEndAtomIdx(), bonds[i].GetEndAtomIdx()))\n",
    "    \n",
    "    return bond_angles"
   ]
  },
  {
   "cell_type": "code",
   "execution_count": 306,
   "metadata": {},
   "outputs": [],
   "source": [
    "def get_bond_angle_feature(mol) -> np.ndarray:\n",
    "    # num_BAs x N\n",
    "    conf = mol.GetConformer()\n",
    "    bond_angles_list = get_bond_angles(mol)\n",
    "\n",
    "    bond_angle = [GetAngleDeg(conf, ba[0], ba[1], ba[2]) for ba in bond_angles_list]\n",
    "\n",
    "    bond_angle_norm = np.squeeze((normalize([bond_angle])))\n",
    "\n",
    "    # min_angle = np.min(bond_angle_norm)\n",
    "    # max_angle = np.max(bond_angle_norm)\n",
    "\n",
    "    return torch.tensor(rdf_continuous_to_discrete(bond_angle_norm))#, min_angle, max_angle))"
   ]
  },
  {
   "cell_type": "code",
   "execution_count": 307,
   "metadata": {},
   "outputs": [
    {
     "data": {
      "text/plain": [
       "tensor([[6.5924e-01, 8.9725e-01, 9.9983e-01, 9.1218e-01, 6.8135e-01, 4.1668e-01,\n",
       "         2.0863e-01, 8.5527e-02, 2.8705e-02, 7.8878e-03, 1.7746e-03, 3.2687e-04,\n",
       "         4.9295e-05, 6.0865e-06, 6.1528e-07, 5.0923e-08, 3.4507e-09, 1.9144e-10,\n",
       "         8.6956e-12, 3.2338e-13],\n",
       "        [6.5924e-01, 8.9725e-01, 9.9983e-01, 9.1218e-01, 6.8135e-01, 4.1668e-01,\n",
       "         2.0863e-01, 8.5527e-02, 2.8705e-02, 7.8878e-03, 1.7746e-03, 3.2687e-04,\n",
       "         4.9295e-05, 6.0865e-06, 6.1528e-07, 5.0923e-08, 3.4507e-09, 1.9144e-10,\n",
       "         8.6957e-12, 3.2338e-13],\n",
       "        [6.5924e-01, 8.9725e-01, 9.9983e-01, 9.1218e-01, 6.8135e-01, 4.1669e-01,\n",
       "         2.0863e-01, 8.5527e-02, 2.8705e-02, 7.8879e-03, 1.7746e-03, 3.2687e-04,\n",
       "         4.9295e-05, 6.0865e-06, 6.1528e-07, 5.0924e-08, 3.4507e-09, 1.9144e-10,\n",
       "         8.6957e-12, 3.2338e-13],\n",
       "        [6.5924e-01, 8.9725e-01, 9.9983e-01, 9.1218e-01, 6.8135e-01, 4.1668e-01,\n",
       "         2.0863e-01, 8.5527e-02, 2.8705e-02, 7.8878e-03, 1.7746e-03, 3.2687e-04,\n",
       "         4.9295e-05, 6.0865e-06, 6.1528e-07, 5.0923e-08, 3.4507e-09, 1.9144e-10,\n",
       "         8.6956e-12, 3.2338e-13],\n",
       "        [6.5924e-01, 8.9725e-01, 9.9983e-01, 9.1218e-01, 6.8135e-01, 4.1668e-01,\n",
       "         2.0863e-01, 8.5527e-02, 2.8705e-02, 7.8879e-03, 1.7746e-03, 3.2687e-04,\n",
       "         4.9295e-05, 6.0865e-06, 6.1528e-07, 5.0923e-08, 3.4507e-09, 1.9144e-10,\n",
       "         8.6957e-12, 3.2338e-13],\n",
       "        [6.5924e-01, 8.9725e-01, 9.9983e-01, 9.1218e-01, 6.8135e-01, 4.1668e-01,\n",
       "         2.0863e-01, 8.5526e-02, 2.8705e-02, 7.8878e-03, 1.7746e-03, 3.2687e-04,\n",
       "         4.9295e-05, 6.0865e-06, 6.1528e-07, 5.0923e-08, 3.4507e-09, 1.9144e-10,\n",
       "         8.6956e-12, 3.2338e-13],\n",
       "        [6.5924e-01, 8.9725e-01, 9.9983e-01, 9.1218e-01, 6.8135e-01, 4.1668e-01,\n",
       "         2.0863e-01, 8.5527e-02, 2.8705e-02, 7.8879e-03, 1.7746e-03, 3.2687e-04,\n",
       "         4.9295e-05, 6.0865e-06, 6.1528e-07, 5.0923e-08, 3.4507e-09, 1.9144e-10,\n",
       "         8.6957e-12, 3.2338e-13],\n",
       "        [6.5924e-01, 8.9725e-01, 9.9983e-01, 9.1218e-01, 6.8135e-01, 4.1668e-01,\n",
       "         2.0863e-01, 8.5527e-02, 2.8705e-02, 7.8878e-03, 1.7746e-03, 3.2687e-04,\n",
       "         4.9295e-05, 6.0865e-06, 6.1528e-07, 5.0923e-08, 3.4507e-09, 1.9144e-10,\n",
       "         8.6956e-12, 3.2338e-13],\n",
       "        [6.5924e-01, 8.9725e-01, 9.9983e-01, 9.1218e-01, 6.8135e-01, 4.1669e-01,\n",
       "         2.0863e-01, 8.5527e-02, 2.8705e-02, 7.8879e-03, 1.7746e-03, 3.2688e-04,\n",
       "         4.9295e-05, 6.0865e-06, 6.1528e-07, 5.0924e-08, 3.4507e-09, 1.9144e-10,\n",
       "         8.6957e-12, 3.2338e-13],\n",
       "        [6.5924e-01, 8.9725e-01, 9.9983e-01, 9.1218e-01, 6.8135e-01, 4.1668e-01,\n",
       "         2.0863e-01, 8.5527e-02, 2.8705e-02, 7.8878e-03, 1.7746e-03, 3.2687e-04,\n",
       "         4.9295e-05, 6.0865e-06, 6.1528e-07, 5.0923e-08, 3.4507e-09, 1.9144e-10,\n",
       "         8.6956e-12, 3.2338e-13],\n",
       "        [6.5924e-01, 8.9725e-01, 9.9983e-01, 9.1218e-01, 6.8135e-01, 4.1668e-01,\n",
       "         2.0863e-01, 8.5527e-02, 2.8705e-02, 7.8878e-03, 1.7746e-03, 3.2687e-04,\n",
       "         4.9295e-05, 6.0865e-06, 6.1528e-07, 5.0923e-08, 3.4507e-09, 1.9144e-10,\n",
       "         8.6956e-12, 3.2338e-13],\n",
       "        [6.5924e-01, 8.9725e-01, 9.9983e-01, 9.1218e-01, 6.8135e-01, 4.1668e-01,\n",
       "         2.0863e-01, 8.5526e-02, 2.8705e-02, 7.8878e-03, 1.7746e-03, 3.2687e-04,\n",
       "         4.9295e-05, 6.0864e-06, 6.1527e-07, 5.0923e-08, 3.4506e-09, 1.9144e-10,\n",
       "         8.6955e-12, 3.2337e-13],\n",
       "        [6.5924e-01, 8.9725e-01, 9.9983e-01, 9.1218e-01, 6.8135e-01, 4.1668e-01,\n",
       "         2.0863e-01, 8.5527e-02, 2.8705e-02, 7.8878e-03, 1.7746e-03, 3.2687e-04,\n",
       "         4.9295e-05, 6.0865e-06, 6.1528e-07, 5.0923e-08, 3.4507e-09, 1.9144e-10,\n",
       "         8.6956e-12, 3.2338e-13],\n",
       "        [6.5924e-01, 8.9725e-01, 9.9983e-01, 9.1218e-01, 6.8135e-01, 4.1668e-01,\n",
       "         2.0863e-01, 8.5527e-02, 2.8705e-02, 7.8878e-03, 1.7746e-03, 3.2687e-04,\n",
       "         4.9295e-05, 6.0865e-06, 6.1528e-07, 5.0923e-08, 3.4507e-09, 1.9144e-10,\n",
       "         8.6957e-12, 3.2338e-13],\n",
       "        [6.5924e-01, 8.9725e-01, 9.9983e-01, 9.1218e-01, 6.8136e-01, 4.1669e-01,\n",
       "         2.0863e-01, 8.5527e-02, 2.8705e-02, 7.8879e-03, 1.7746e-03, 3.2688e-04,\n",
       "         4.9296e-05, 6.0866e-06, 6.1529e-07, 5.0924e-08, 3.4507e-09, 1.9144e-10,\n",
       "         8.6959e-12, 3.2339e-13],\n",
       "        [6.5924e-01, 8.9725e-01, 9.9983e-01, 9.1218e-01, 6.8135e-01, 4.1668e-01,\n",
       "         2.0863e-01, 8.5527e-02, 2.8705e-02, 7.8878e-03, 1.7746e-03, 3.2687e-04,\n",
       "         4.9295e-05, 6.0865e-06, 6.1528e-07, 5.0923e-08, 3.4507e-09, 1.9144e-10,\n",
       "         8.6957e-12, 3.2338e-13],\n",
       "        [6.5924e-01, 8.9725e-01, 9.9983e-01, 9.1218e-01, 6.8135e-01, 4.1668e-01,\n",
       "         2.0863e-01, 8.5527e-02, 2.8705e-02, 7.8878e-03, 1.7746e-03, 3.2687e-04,\n",
       "         4.9295e-05, 6.0865e-06, 6.1528e-07, 5.0923e-08, 3.4507e-09, 1.9144e-10,\n",
       "         8.6957e-12, 3.2338e-13],\n",
       "        [6.5924e-01, 8.9725e-01, 9.9983e-01, 9.1218e-01, 6.8135e-01, 4.1668e-01,\n",
       "         2.0863e-01, 8.5526e-02, 2.8705e-02, 7.8878e-03, 1.7746e-03, 3.2687e-04,\n",
       "         4.9295e-05, 6.0864e-06, 6.1527e-07, 5.0923e-08, 3.4507e-09, 1.9144e-10,\n",
       "         8.6956e-12, 3.2338e-13],\n",
       "        [6.5924e-01, 8.9725e-01, 9.9983e-01, 9.1218e-01, 6.8135e-01, 4.1668e-01,\n",
       "         2.0863e-01, 8.5526e-02, 2.8705e-02, 7.8878e-03, 1.7746e-03, 3.2687e-04,\n",
       "         4.9295e-05, 6.0864e-06, 6.1527e-07, 5.0923e-08, 3.4507e-09, 1.9144e-10,\n",
       "         8.6956e-12, 3.2338e-13],\n",
       "        [6.5924e-01, 8.9725e-01, 9.9983e-01, 9.1218e-01, 6.8135e-01, 4.1669e-01,\n",
       "         2.0863e-01, 8.5527e-02, 2.8705e-02, 7.8879e-03, 1.7746e-03, 3.2687e-04,\n",
       "         4.9295e-05, 6.0865e-06, 6.1528e-07, 5.0924e-08, 3.4507e-09, 1.9144e-10,\n",
       "         8.6957e-12, 3.2338e-13],\n",
       "        [6.5924e-01, 8.9725e-01, 9.9983e-01, 9.1218e-01, 6.8135e-01, 4.1668e-01,\n",
       "         2.0863e-01, 8.5526e-02, 2.8705e-02, 7.8878e-03, 1.7746e-03, 3.2687e-04,\n",
       "         4.9295e-05, 6.0865e-06, 6.1528e-07, 5.0923e-08, 3.4507e-09, 1.9144e-10,\n",
       "         8.6956e-12, 3.2338e-13],\n",
       "        [6.5924e-01, 8.9725e-01, 9.9983e-01, 9.1218e-01, 6.8135e-01, 4.1669e-01,\n",
       "         2.0863e-01, 8.5527e-02, 2.8705e-02, 7.8879e-03, 1.7746e-03, 3.2688e-04,\n",
       "         4.9295e-05, 6.0865e-06, 6.1528e-07, 5.0924e-08, 3.4507e-09, 1.9144e-10,\n",
       "         8.6957e-12, 3.2338e-13],\n",
       "        [6.5924e-01, 8.9725e-01, 9.9983e-01, 9.1218e-01, 6.8135e-01, 4.1668e-01,\n",
       "         2.0863e-01, 8.5526e-02, 2.8705e-02, 7.8878e-03, 1.7746e-03, 3.2687e-04,\n",
       "         4.9295e-05, 6.0864e-06, 6.1527e-07, 5.0923e-08, 3.4506e-09, 1.9144e-10,\n",
       "         8.6955e-12, 3.2337e-13],\n",
       "        [6.5924e-01, 8.9725e-01, 9.9983e-01, 9.1218e-01, 6.8136e-01, 4.1669e-01,\n",
       "         2.0863e-01, 8.5527e-02, 2.8705e-02, 7.8879e-03, 1.7746e-03, 3.2688e-04,\n",
       "         4.9296e-05, 6.0866e-06, 6.1529e-07, 5.0924e-08, 3.4507e-09, 1.9144e-10,\n",
       "         8.6959e-12, 3.2339e-13]], dtype=torch.float64)"
      ]
     },
     "execution_count": 307,
     "metadata": {},
     "output_type": "execute_result"
    }
   ],
   "source": [
    "get_bond_angle_feature(c6h6_H)"
   ]
  },
  {
   "cell_type": "markdown",
   "metadata": {},
   "source": [
    "# Generate graphs"
   ]
  },
  {
   "cell_type": "markdown",
   "metadata": {},
   "source": [
    "## Atom-bond graph"
   ]
  },
  {
   "cell_type": "code",
   "execution_count": 273,
   "metadata": {},
   "outputs": [],
   "source": [
    "def get_atom_bond_graph(mol) -> np.ndarray:\n",
    "    return torch.tensor(GetAdjacencyMatrix(mol))"
   ]
  },
  {
   "cell_type": "code",
   "execution_count": 277,
   "metadata": {},
   "outputs": [],
   "source": [
    "def get_bond_angle_graph(mol) -> np.ndarray:\n",
    "    bonds = mol.GetBonds()\n",
    "\n",
    "    nrows = ncols = len(bonds)\n",
    "\n",
    "    graph = np.zeros((nrows, ncols), dtype='int32')\n",
    "\n",
    "    for i in range(nrows):\n",
    "        for j in range(ncols):\n",
    "            if bonds[i].GetEndAtomIdx() == bonds[j].GetBeginAtomIdx() \\\n",
    "            or bonds[i].GetBeginAtomIdx() == bonds[j].GetEndAtomIdx():\n",
    "                graph[i][j] = 1\n",
    "\n",
    "    return torch.tensor(graph)"
   ]
  },
  {
   "cell_type": "code",
   "execution_count": 274,
   "metadata": {},
   "outputs": [
    {
     "data": {
      "text/plain": [
       "tensor([[0, 1, 0, 0, 0, 1, 1, 0, 0, 0, 0, 0],\n",
       "        [1, 0, 1, 0, 0, 0, 0, 1, 0, 0, 0, 0],\n",
       "        [0, 1, 0, 1, 0, 0, 0, 0, 1, 0, 0, 0],\n",
       "        [0, 0, 1, 0, 1, 0, 0, 0, 0, 1, 0, 0],\n",
       "        [0, 0, 0, 1, 0, 1, 0, 0, 0, 0, 1, 0],\n",
       "        [1, 0, 0, 0, 1, 0, 0, 0, 0, 0, 0, 1],\n",
       "        [1, 0, 0, 0, 0, 0, 0, 0, 0, 0, 0, 0],\n",
       "        [0, 1, 0, 0, 0, 0, 0, 0, 0, 0, 0, 0],\n",
       "        [0, 0, 1, 0, 0, 0, 0, 0, 0, 0, 0, 0],\n",
       "        [0, 0, 0, 1, 0, 0, 0, 0, 0, 0, 0, 0],\n",
       "        [0, 0, 0, 0, 1, 0, 0, 0, 0, 0, 0, 0],\n",
       "        [0, 0, 0, 0, 0, 1, 0, 0, 0, 0, 0, 0]], dtype=torch.int32)"
      ]
     },
     "execution_count": 274,
     "metadata": {},
     "output_type": "execute_result"
    }
   ],
   "source": [
    "get_atom_bond_graph(c6h6_H)"
   ]
  },
  {
   "cell_type": "code",
   "execution_count": 278,
   "metadata": {},
   "outputs": [
    {
     "data": {
      "text/plain": [
       "tensor([[0, 1, 0, 0, 0, 1, 0, 1, 0, 0, 0, 0],\n",
       "        [1, 0, 1, 0, 0, 0, 0, 0, 1, 0, 0, 0],\n",
       "        [0, 1, 0, 1, 0, 0, 0, 0, 0, 1, 0, 0],\n",
       "        [0, 0, 1, 0, 1, 0, 0, 0, 0, 0, 1, 0],\n",
       "        [0, 0, 0, 1, 0, 1, 0, 0, 0, 0, 0, 1],\n",
       "        [1, 0, 0, 0, 1, 0, 1, 0, 0, 0, 0, 0],\n",
       "        [0, 0, 0, 0, 0, 1, 0, 0, 0, 0, 0, 0],\n",
       "        [1, 0, 0, 0, 0, 0, 0, 0, 0, 0, 0, 0],\n",
       "        [0, 1, 0, 0, 0, 0, 0, 0, 0, 0, 0, 0],\n",
       "        [0, 0, 1, 0, 0, 0, 0, 0, 0, 0, 0, 0],\n",
       "        [0, 0, 0, 1, 0, 0, 0, 0, 0, 0, 0, 0],\n",
       "        [0, 0, 0, 0, 1, 0, 0, 0, 0, 0, 0, 0]], dtype=torch.int32)"
      ]
     },
     "execution_count": 278,
     "metadata": {},
     "output_type": "execute_result"
    }
   ],
   "source": [
    "get_bond_angle_graph(c6h6_H)"
   ]
  },
  {
   "cell_type": "code",
   "execution_count": 283,
   "metadata": {},
   "outputs": [
    {
     "data": {
      "text/plain": [
       "array([ 0,  0,  0,  1,  1,  1,  2,  2,  2,  3,  3,  3,  4,  4,  4,  5,  5,\n",
       "        5,  6,  7,  8,  9, 10, 11], dtype=int32)"
      ]
     },
     "execution_count": 283,
     "metadata": {},
     "output_type": "execute_result"
    }
   ],
   "source": [
    "coo_matrix(get_atom_bond_graph(c6h6_H)).row"
   ]
  },
  {
   "cell_type": "code",
   "execution_count": 284,
   "metadata": {},
   "outputs": [
    {
     "data": {
      "text/plain": [
       "array([ 1,  5,  6,  0,  2,  7,  1,  3,  8,  2,  4,  9,  3,  5, 10,  0,  4,\n",
       "       11,  0,  1,  2,  3,  4,  5], dtype=int32)"
      ]
     },
     "execution_count": 284,
     "metadata": {},
     "output_type": "execute_result"
    }
   ],
   "source": [
    "coo_matrix(get_atom_bond_graph(c6h6_H)).col"
   ]
  }
 ],
 "metadata": {
  "kernelspec": {
   "display_name": "Python 3.10.6 ('thesis')",
   "language": "python",
   "name": "python3"
  },
  "language_info": {
   "codemirror_mode": {
    "name": "ipython",
    "version": 3
   },
   "file_extension": ".py",
   "mimetype": "text/x-python",
   "name": "python",
   "nbconvert_exporter": "python",
   "pygments_lexer": "ipython3",
   "version": "3.10.6"
  },
  "orig_nbformat": 4,
  "vscode": {
   "interpreter": {
    "hash": "f222316a5d06f04e2576259a9ef3742b41c8a309aa3a11e554d348cd512feb8b"
   }
  }
 },
 "nbformat": 4,
 "nbformat_minor": 2
}
